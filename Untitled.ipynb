{
 "cells": [
  {
   "cell_type": "code",
   "execution_count": 15,
   "metadata": {},
   "outputs": [],
   "source": [
    "import pickle\n",
    "summary = pickle.load(open('/nas/longleaf/home/runpeng/distRL/Dist-DEnet-ncqr/logs/YarsRevengeNoFrameskip-v4/DEnet-200-10000-3/summary/return.pkl', 'rb'))"
   ]
  },
  {
   "cell_type": "code",
   "execution_count": 16,
   "metadata": {},
   "outputs": [
    {
     "data": {
      "text/plain": [
       "[[4.04], []]"
      ]
     },
     "execution_count": 16,
     "metadata": {},
     "output_type": "execute_result"
    }
   ],
   "source": [
    "summary"
   ]
  },
  {
   "cell_type": "code",
   "execution_count": 190,
   "metadata": {},
   "outputs": [],
   "source": [
    "import os\n",
    "import yaml\n",
    "import argparse\n",
    "from datetime import datetime\n",
    "\n",
    "from fqf_iqn_qrdqn.env import make_pytorch_env\n",
    "from fqf_iqn_qrdqn.agent import ncQRDQNAgent\n",
    "from fqf_iqn_qrdqn.model import ncQRDQN\n",
    "\n",
    "import torch\n",
    "\n",
    "from fqf_iqn_qrdqn.utils import disable_gradients, update_params,\\\n",
    "    calculate_quantile_huber_loss, evaluate_quantile_at_action"
   ]
  },
  {
   "cell_type": "code",
   "execution_count": 191,
   "metadata": {},
   "outputs": [],
   "source": [
    "config = 'config/ncqrdqn.yaml'\n",
    "env_id = 'BreakoutNoFrameskip-v4'\n",
    "seed = 0\n"
   ]
  },
  {
   "cell_type": "code",
   "execution_count": 192,
   "metadata": {},
   "outputs": [],
   "source": [
    "with open(config) as f:\n",
    "    config = yaml.load(f, Loader=yaml.SafeLoader)\n",
    "env = make_pytorch_env(env_id)\n",
    "test_env = make_pytorch_env(\n",
    "    env_id, episode_life=False, clip_rewards=False)\n",
    "time = datetime.now().strftime(\"%Y%m%d-%H%M\")\n",
    "log_dir = os.path.join(\n",
    "    'logs', env_id, f'QRDQN-{seed}-{time}')"
   ]
  },
  {
   "cell_type": "code",
   "execution_count": 193,
   "metadata": {},
   "outputs": [],
   "source": [
    "agent = ncQRDQNAgent(\n",
    "    env=env, test_env=test_env, log_dir=log_dir, seed=seed,\n",
    "     **config)"
   ]
  },
  {
   "cell_type": "code",
   "execution_count": 194,
   "metadata": {},
   "outputs": [
    {
     "data": {
      "text/plain": [
       "4"
      ]
     },
     "execution_count": 194,
     "metadata": {},
     "output_type": "execute_result"
    }
   ],
   "source": [
    "self.num_actions"
   ]
  },
  {
   "cell_type": "code",
   "execution_count": 248,
   "metadata": {},
   "outputs": [
    {
     "data": {
      "text/plain": [
       "<All keys matched successfully>"
      ]
     },
     "execution_count": 248,
     "metadata": {},
     "output_type": "execute_result"
    }
   ],
   "source": [
    "agent.online_net.load_state_dict(torch.load(\n",
    "    os.path.join('logs/BreakoutNoFrameskip-v4/ncQRDQN-0-20200326-1048/model/best', 'online_net.pth')))"
   ]
  },
  {
   "cell_type": "code",
   "execution_count": 249,
   "metadata": {},
   "outputs": [],
   "source": [
    "self = agent\n",
    "\n",
    "# states, actions, rewards, next_states, dones =\\\n",
    "#     self.memory.sample(self.batch_size)\n",
    "self.episodes += 1\n",
    "episode_return = 0.\n",
    "episode_steps = 0\n",
    "\n",
    "done = False\n",
    "state = self.env.reset()\n",
    "\n",
    "while (not done) and episode_steps <= self.max_episode_steps:\n",
    "\n",
    "    if self.steps % self.update_interval == 0:\n",
    "        # Reset the noise of noisy net (online net only).\n",
    "        self.online_net.reset_noise()\n",
    "\n",
    "    if self.is_greedy(eval=False):\n",
    "        action = self.explore()\n",
    "    else:\n",
    "        action = self.exploit(state)\n",
    "\n",
    "    next_state, reward, done, _ = self.env.step(action)\n",
    "\n",
    "    self.memory.append(\n",
    "        state, action, reward, next_state, done)\n",
    "\n",
    "    self.steps += 1\n",
    "    episode_steps += 1\n",
    "    episode_return += reward\n",
    "    state = next_state\n",
    "\n",
    "    self.train_step_interval()\n",
    "self.train_return.append(episode_return)\n",
    "\n"
   ]
  },
  {
   "cell_type": "code",
   "execution_count": 250,
   "metadata": {},
   "outputs": [],
   "source": [
    "states, actions, rewards, next_states, dones = self.memory.sample(self.batch_size)\n"
   ]
  },
  {
   "cell_type": "code",
   "execution_count": 251,
   "metadata": {},
   "outputs": [
    {
     "name": "stdout",
     "output_type": "stream",
     "text": [
      "torch.Size([200, 4])\n"
     ]
    }
   ],
   "source": [
    "# We log running mean of stats.\n",
    "\n",
    "current_sa_quantiles = evaluate_quantile_at_action(\n",
    "    self.online_net(states=states),\n",
    "    actions)\n",
    "print(self.online_net(states=states)[0].shape)\n",
    "\n",
    "# Calculate fractions of current states and entropies.\n",
    "\n",
    "\n",
    "# Calculate quantile values of current states and actions at tau_hats.\n",
    "# current_sa_quantile_hats = evaluate_quantile_at_action(\n",
    "#     self.online_net.calculate_quantiles(\n",
    "#         tau_hats, state_embeddings=state_embeddings),\n",
    "#     actions)\n",
    "# quantile = self.online_net.calculate_quantiles(\n",
    "#          tau_hats, state_embeddings=state_embeddings)"
   ]
  },
  {
   "cell_type": "code",
   "execution_count": 252,
   "metadata": {},
   "outputs": [
    {
     "data": {
      "text/plain": [
       "(1, 200)"
      ]
     },
     "execution_count": 252,
     "metadata": {},
     "output_type": "execute_result"
    }
   ],
   "source": [
    "x = current_sa_quantiles.cpu().detach().numpy()\n",
    "tau = self.tau_hats.cpu().detach().numpy()\n",
    "tau.shape"
   ]
  },
  {
   "cell_type": "code",
   "execution_count": 253,
   "metadata": {},
   "outputs": [
    {
     "data": {
      "text/plain": [
       "array([[-9.40092266e-01],\n",
       "       [-7.57350862e-01],\n",
       "       [-1.41230673e-01],\n",
       "       [-1.15250893e-01],\n",
       "       [-1.04243010e-01],\n",
       "       [-8.05932805e-02],\n",
       "       [-6.59460649e-02],\n",
       "       [-4.99368235e-02],\n",
       "       [-4.23295237e-02],\n",
       "       [-3.21733765e-02],\n",
       "       [-2.52556726e-02],\n",
       "       [-1.93495434e-02],\n",
       "       [-9.41963959e-03],\n",
       "       [-4.55197506e-03],\n",
       "       [-5.28097095e-04],\n",
       "       [ 2.03895289e-03],\n",
       "       [ 8.41454696e-03],\n",
       "       [ 9.28709004e-03],\n",
       "       [ 1.03428252e-02],\n",
       "       [ 1.86452717e-02],\n",
       "       [ 2.05245987e-02],\n",
       "       [ 2.26209909e-02],\n",
       "       [ 2.34411918e-02],\n",
       "       [ 2.75041815e-02],\n",
       "       [ 2.81163249e-02],\n",
       "       [ 2.85914689e-02],\n",
       "       [ 4.76528592e-02],\n",
       "       [ 4.81049344e-02],\n",
       "       [ 4.88843955e-02],\n",
       "       [ 4.93999235e-02],\n",
       "       [ 5.34315072e-02],\n",
       "       [ 5.38407639e-02],\n",
       "       [ 5.44153377e-02],\n",
       "       [ 5.46630286e-02],\n",
       "       [ 5.94125688e-02],\n",
       "       [ 5.95786348e-02],\n",
       "       [ 5.98717965e-02],\n",
       "       [ 6.01180270e-02],\n",
       "       [ 6.04030937e-02],\n",
       "       [ 7.65563771e-02],\n",
       "       [ 7.68602341e-02],\n",
       "       [ 7.71083832e-02],\n",
       "       [ 7.73661211e-02],\n",
       "       [ 7.76285827e-02],\n",
       "       [ 8.14250037e-02],\n",
       "       [ 8.16964209e-02],\n",
       "       [ 8.19102749e-02],\n",
       "       [ 8.21020976e-02],\n",
       "       [ 8.22592229e-02],\n",
       "       [ 8.23713541e-02],\n",
       "       [ 8.24866742e-02],\n",
       "       [ 9.04828012e-02],\n",
       "       [ 9.05866176e-02],\n",
       "       [ 9.06823799e-02],\n",
       "       [ 9.08079445e-02],\n",
       "       [ 9.09217969e-02],\n",
       "       [ 9.10724178e-02],\n",
       "       [ 9.11960751e-02],\n",
       "       [ 9.68666002e-02],\n",
       "       [ 9.70609784e-02],\n",
       "       [ 9.73342285e-02],\n",
       "       [ 9.77085382e-02],\n",
       "       [ 9.80858952e-02],\n",
       "       [ 9.84112769e-02],\n",
       "       [ 9.85718295e-02],\n",
       "       [ 9.87184495e-02],\n",
       "       [ 9.88217443e-02],\n",
       "       [ 9.89168957e-02],\n",
       "       [ 9.89989340e-02],\n",
       "       [ 1.10915743e-01],\n",
       "       [ 1.10993922e-01],\n",
       "       [ 1.11092120e-01],\n",
       "       [ 1.11227289e-01],\n",
       "       [ 1.11386001e-01],\n",
       "       [ 1.11510098e-01],\n",
       "       [ 1.11799121e-01],\n",
       "       [ 1.12164408e-01],\n",
       "       [ 1.12459868e-01],\n",
       "       [ 1.13507934e-01],\n",
       "       [ 1.13823421e-01],\n",
       "       [ 1.13950618e-01],\n",
       "       [ 1.14082523e-01],\n",
       "       [ 1.14159472e-01],\n",
       "       [ 1.14237607e-01],\n",
       "       [ 1.39121413e-01],\n",
       "       [ 1.39190629e-01],\n",
       "       [ 1.39298424e-01],\n",
       "       [ 1.39410079e-01],\n",
       "       [ 1.39538199e-01],\n",
       "       [ 1.39701515e-01],\n",
       "       [ 1.39855579e-01],\n",
       "       [ 1.40092745e-01],\n",
       "       [ 1.40270635e-01],\n",
       "       [ 1.42291605e-01],\n",
       "       [ 1.42437503e-01],\n",
       "       [ 1.42586887e-01],\n",
       "       [ 1.42722607e-01],\n",
       "       [ 1.42803311e-01],\n",
       "       [ 1.42886817e-01],\n",
       "       [ 1.42948955e-01],\n",
       "       [ 1.43000692e-01],\n",
       "       [ 1.43040523e-01],\n",
       "       [ 1.57496974e-01],\n",
       "       [ 1.57539070e-01],\n",
       "       [ 1.57586738e-01],\n",
       "       [ 1.57659188e-01],\n",
       "       [ 1.57747656e-01],\n",
       "       [ 1.57846257e-01],\n",
       "       [ 1.57941937e-01],\n",
       "       [ 1.58081219e-01],\n",
       "       [ 1.58207119e-01],\n",
       "       [ 1.58330917e-01],\n",
       "       [ 1.58489600e-01],\n",
       "       [ 1.58598974e-01],\n",
       "       [ 1.58692196e-01],\n",
       "       [ 1.58783555e-01],\n",
       "       [ 1.64516091e-01],\n",
       "       [ 1.64595678e-01],\n",
       "       [ 1.64679319e-01],\n",
       "       [ 1.64748564e-01],\n",
       "       [ 1.64836735e-01],\n",
       "       [ 1.64906338e-01],\n",
       "       [ 1.64996579e-01],\n",
       "       [ 1.65059447e-01],\n",
       "       [ 1.65101081e-01],\n",
       "       [ 1.75125167e-01],\n",
       "       [ 1.75178334e-01],\n",
       "       [ 1.75251961e-01],\n",
       "       [ 1.75336570e-01],\n",
       "       [ 1.75432742e-01],\n",
       "       [ 1.75533861e-01],\n",
       "       [ 1.75658226e-01],\n",
       "       [ 1.75785452e-01],\n",
       "       [ 1.75894544e-01],\n",
       "       [ 1.76012412e-01],\n",
       "       [ 1.76106706e-01],\n",
       "       [ 1.76187471e-01],\n",
       "       [ 1.87896043e-01],\n",
       "       [ 1.87983707e-01],\n",
       "       [ 1.88073322e-01],\n",
       "       [ 1.88164204e-01],\n",
       "       [ 1.89658925e-01],\n",
       "       [ 1.89760223e-01],\n",
       "       [ 1.89871281e-01],\n",
       "       [ 1.89970255e-01],\n",
       "       [ 1.90069690e-01],\n",
       "       [ 1.90169930e-01],\n",
       "       [ 1.90242007e-01],\n",
       "       [ 2.01870397e-01],\n",
       "       [ 2.01939166e-01],\n",
       "       [ 2.02188224e-01],\n",
       "       [ 2.02297017e-01],\n",
       "       [ 2.02469870e-01],\n",
       "       [ 2.02712595e-01],\n",
       "       [ 2.02897072e-01],\n",
       "       [ 2.03282014e-01],\n",
       "       [ 2.04039231e-01],\n",
       "       [ 2.04422042e-01],\n",
       "       [ 2.04723313e-01],\n",
       "       [ 2.04946607e-01],\n",
       "       [ 2.05811039e-01],\n",
       "       [ 2.05928341e-01],\n",
       "       [ 2.12138042e-01],\n",
       "       [ 2.12269172e-01],\n",
       "       [ 2.13184431e-01],\n",
       "       [ 2.13344425e-01],\n",
       "       [ 2.17072412e-01],\n",
       "       [ 2.17314079e-01],\n",
       "       [ 2.18242213e-01],\n",
       "       [ 2.19101936e-01],\n",
       "       [ 2.19484195e-01],\n",
       "       [ 2.22451553e-01],\n",
       "       [ 2.25894600e-01],\n",
       "       [ 2.26574212e-01],\n",
       "       [ 2.26994127e-01],\n",
       "       [ 2.27419943e-01],\n",
       "       [ 2.27759480e-01],\n",
       "       [ 2.29365572e-01],\n",
       "       [ 2.29568481e-01],\n",
       "       [ 2.29704916e-01],\n",
       "       [ 2.29805738e-01],\n",
       "       [ 2.35337690e-01],\n",
       "       [ 2.35455602e-01],\n",
       "       [ 2.35620394e-01],\n",
       "       [ 2.35882655e-01],\n",
       "       [ 2.36106247e-01],\n",
       "       [ 2.36411825e-01],\n",
       "       [ 2.36608312e-01],\n",
       "       [ 2.47081026e-01],\n",
       "       [ 2.47326463e-01],\n",
       "       [ 2.48125657e-01],\n",
       "       [ 2.50748515e-01],\n",
       "       [ 2.85240471e-01],\n",
       "       [ 2.95468926e-01],\n",
       "       [ 2.97442913e-01],\n",
       "       [ 2.98180908e-01],\n",
       "       [ 3.56594533e-01],\n",
       "       [ 3.57275218e-01],\n",
       "       [ 5.63624084e-01],\n",
       "       [ 1.00388503e+00]], dtype=float32)"
      ]
     },
     "execution_count": 253,
     "metadata": {},
     "output_type": "execute_result"
    }
   ],
   "source": [
    "x[0]"
   ]
  },
  {
   "cell_type": "code",
   "execution_count": 254,
   "metadata": {},
   "outputs": [
    {
     "data": {
      "text/plain": [
       "[<matplotlib.lines.Line2D at 0x7f024a0a0c90>]"
      ]
     },
     "execution_count": 254,
     "metadata": {},
     "output_type": "execute_result"
    },
    {
     "data": {
      "image/png": "[encoded data removed]",
      "text/plain": [
       "<Figure size 432x288 with 1 Axes>"
      ]
     },
     "metadata": {
      "needs_background": "light"
     },
     "output_type": "display_data"
    }
   ],
   "source": [
    "import matplotlib.pyplot as plt\n",
    "# print(tau[0])\n",
    "plt.plot(tau[0],x[0].squeeze(1))"
   ]
  },
  {
   "cell_type": "code",
   "execution_count": 15,
   "metadata": {},
   "outputs": [
    {
     "data": {
      "text/plain": [
       "85"
      ]
     },
     "execution_count": 15,
     "metadata": {},
     "output_type": "execute_result"
    }
   ],
   "source": [
    "import pickle\n",
    "f = open('logs/BreakoutNoFrameskip-v4/ncEXQRDQN-0-20200819-0953/summary/return.pkl','rb')\n",
    "data = pickle.load(f)\n",
    "f.close()\n",
    "len(data[1])\n",
    "# plt.plot(data)"
   ]
  },
  {
   "cell_type": "code",
   "execution_count": 51,
   "metadata": {},
   "outputs": [
    {
     "name": "stdout",
     "output_type": "stream",
     "text": [
      "[0.01633205 0.05058956 0.08611414 0.12056714 0.15411238 0.18706903\n",
      " 0.21810508 0.2475645  0.27713478 0.3069036  0.33765468 0.36847574\n",
      " 0.3978475  0.4266274  0.4551574  0.48375767 0.51262546 0.54178697\n",
      " 0.5705174  0.5991038  0.629294   0.66096085 0.69339454 0.72457314\n",
      " 0.75467837 0.78493124 0.8160287  0.8494711  0.88461757 0.92055273\n",
      " 0.95539033 0.98606986]\n"
     ]
    },
    {
     "data": {
      "text/plain": [
       "[<matplotlib.lines.Line2D at 0x7f3e47c5be50>]"
      ]
     },
     "execution_count": 51,
     "metadata": {},
     "output_type": "execute_result"
    },
    {
     "data": {
      "image/png": "[encoded data removed]",
      "text/plain": [
       "<Figure size 432x288 with 1 Axes>"
      ]
     },
     "metadata": {
      "needs_background": "light"
     },
     "output_type": "display_data"
    }
   ],
   "source": [
    "print(tau[0])\n",
    "plt.plot(tau[0],q[3][:,2])"
   ]
  },
  {
   "cell_type": "code",
   "execution_count": 2,
   "metadata": {
    "scrolled": true
   },
   "outputs": [
    {
     "data": {
      "text/plain": [
       "[<matplotlib.lines.Line2D at 0x7f051d05b2d0>]"
      ]
     },
     "execution_count": 2,
     "metadata": {},
     "output_type": "execute_result"
    },
    {
     "data": {
      "image/png": "[encoded data removed]",
      "text/plain": [
       "<Figure size 432x288 with 1 Axes>"
      ]
     },
     "metadata": {
      "needs_background": "light"
     },
     "output_type": "display_data"
    }
   ],
   "source": [
    "import matplotlib.pyplot as plt\n",
    "import pickle\n",
    "f = open('logs/VentureNoFrameskip-v4/FQF-0-20200312-1653/summary/return.pkl','rb')\n",
    "data = pickle.load(f)\n",
    "f.close()\n",
    "plt.plot(data)"
   ]
  },
  {
   "cell_type": "code",
   "execution_count": 65,
   "metadata": {},
   "outputs": [
    {
     "data": {
      "text/plain": [
       "[<matplotlib.lines.Line2D at 0x7f924ca0ee50>]"
      ]
     },
     "execution_count": 65,
     "metadata": {},
     "output_type": "execute_result"
    },
    {
     "data": {
      "image/png": "[encoded data removed]",
      "text/plain": [
       "<Figure size 432x288 with 1 Axes>"
      ]
     },
     "metadata": {
      "needs_background": "light"
     },
     "output_type": "display_data"
    }
   ],
   "source": [
    "f = open('logs/VentureNoFrameskip-v4/FQF-0-20200312-1653/summary/return.pkl','rb')\n",
    "data = pickle.load(f)\n",
    "f.close()\n",
    "plt.plot(data)"
   ]
  },
  {
   "cell_type": "code",
   "execution_count": 81,
   "metadata": {},
   "outputs": [
    {
     "data": {
      "text/plain": [
       "[<matplotlib.lines.Line2D at 0x7f924c355510>]"
      ]
     },
     "execution_count": 81,
     "metadata": {},
     "output_type": "execute_result"
    },
    {
     "data": {
      "image/png": "[encoded data removed]",
      "text/plain": [
       "<Figure size 432x288 with 1 Axes>"
      ]
     },
     "metadata": {
      "needs_background": "light"
     },
     "output_type": "display_data"
    }
   ],
   "source": [
    "f = open('logs/BreakoutNoFrameskip-v4/QRDQN-0-20200315-1603/summary/return.pkl','rb')\n",
    "data = pickle.load(f)\n",
    "f.close()\n",
    "plt.plot(data)"
   ]
  },
  {
   "cell_type": "code",
   "execution_count": 5,
   "metadata": {},
   "outputs": [
    {
     "data": {
      "text/plain": [
       "[<matplotlib.lines.Line2D at 0x7f051cb3ac50>]"
      ]
     },
     "execution_count": 5,
     "metadata": {},
     "output_type": "execute_result"
    },
    {
     "data": {
      "image/png": "[encoded data removed]",
      "text/plain": [
       "<Figure size 432x288 with 1 Axes>"
      ]
     },
     "metadata": {
      "needs_background": "light"
     },
     "output_type": "display_data"
    }
   ],
   "source": [
    "f = open('logs/VentureNoFrameskip-v4/FQF-0-20200320-0128/summary/return.pkl','rb')\n",
    "data = pickle.load(f)\n",
    "f.close() \n",
    "plt.plot(data)"
   ]
  },
  {
   "cell_type": "code",
   "execution_count": 4,
   "metadata": {},
   "outputs": [
    {
     "name": "stdout",
     "output_type": "stream",
     "text": [
      "Package              Version             Location                                                               \n",
      "-------------------- ------------------- -----------------------------------------------------------------------\n",
      "absl-py              0.9.0               \n",
      "astor                0.8.1               \n",
      "atari-py             0.2.6               \n",
      "backcall             0.1.0               \n",
      "baselines            0.1.6               /home/sufedc_nvidia_wangjianing/ucb-exploration-replication/mybaselines\n",
      "cachetools           4.0.0               \n",
      "certifi              2019.11.28          \n",
      "chardet              3.0.4               \n",
      "click                7.1.1               \n",
      "cloudpickle          1.2.2               \n",
      "cycler               0.10.0              \n",
      "decorator            4.4.2               \n",
      "future               0.18.2              \n",
      "gast                 0.2.2               \n",
      "google-auth          1.11.2              \n",
      "google-auth-oauthlib 0.4.1               \n",
      "google-pasta         0.1.8               \n",
      "grpcio               1.27.2              \n",
      "gym                  0.15.6              \n",
      "h5py                 2.10.0              \n",
      "idna                 2.9                 \n",
      "ipykernel            5.1.4               \n",
      "ipython              7.13.0              \n",
      "ipython-genutils     0.2.0               \n",
      "jedi                 0.16.0              \n",
      "joblib               0.14.1              \n",
      "jupyter-client       6.0.0               \n",
      "jupyter-core         4.6.3               \n",
      "Keras-Applications   1.0.8               \n",
      "Keras-Preprocessing  1.1.0               \n",
      "kiwisolver           1.1.0               \n",
      "Markdown             3.2.1               \n",
      "matplotlib           3.2.0               \n",
      "numpy                1.18.1              \n",
      "oauthlib             3.1.0               \n",
      "opencv-python        4.2.0.32            \n",
      "opt-einsum           3.2.0               \n",
      "parso                0.6.2               \n",
      "pexpect              4.8.0               \n",
      "pickleshare          0.7.5               \n",
      "Pillow               7.0.0               \n",
      "pip                  20.0.2              \n",
      "prompt-toolkit       3.0.4               \n",
      "protobuf             3.11.3              \n",
      "ptyprocess           0.6.0               \n",
      "pyasn1               0.4.8               \n",
      "pyasn1-modules       0.2.8               \n",
      "pyglet               1.5.0               \n",
      "Pygments             2.6.1               \n",
      "pyparsing            2.4.6               \n",
      "python-dateutil      2.8.1               \n",
      "PyYAML               5.3                 \n",
      "pyzmq                19.0.0              \n",
      "requests             2.23.0              \n",
      "requests-oauthlib    1.3.0               \n",
      "rsa                  4.0                 \n",
      "scipy                1.4.1               \n",
      "setuptools           46.0.0.post20200309 \n",
      "six                  1.14.0              \n",
      "tensorboard          1.14.0              \n",
      "tensorboardX         2.0                 \n",
      "tensorflow           1.14.0              \n",
      "tensorflow-estimator 1.14.0              \n",
      "termcolor            1.1.0               \n",
      "torch                1.4.0               \n",
      "tornado              6.0.4               \n",
      "tqdm                 4.43.0              \n",
      "traitlets            4.3.3               \n",
      "urllib3              1.25.8              \n",
      "wcwidth              0.1.8               \n",
      "Werkzeug             1.0.0               \n",
      "wheel                0.34.2              \n",
      "wrapt                1.12.1              \n",
      "Note: you may need to restart the kernel to use updated packages.\n"
     ]
    }
   ],
   "source": [
    "pip list"
   ]
  },
  {
   "cell_type": "code",
   "execution_count": 2,
   "metadata": {},
   "outputs": [
    {
     "name": "stdout",
     "output_type": "stream",
     "text": [
      "logs/BreakoutNoFrameskip-v4\n",
      "[4, 85]\n",
      "['QRDQN-0-20200818-1148', 'QRDQN-0-20200819-0956']\n",
      "logs/BreakoutNoFrameskip-v4/QRDQN-0-20200819-0956\n"
     ]
    }
   ],
   "source": [
    "import os \n",
    "import numpy as np\n",
    "import pickle\n",
    "dirr = 'logs/BreakoutNoFrameskip-v4/QRDQN-0-20200315-1603'\n",
    "dir_name = os.path.dirname(dirr)\n",
    "print(dir_name)\n",
    "model_name = os.path.basename(dirr)\n",
    "model_name = model_name.split('QN')[0]+'QN'\n",
    "\n",
    "\n",
    "mdl_len = len(model_name)\n",
    "\n",
    "name_list = os.listdir(dir_name)\n",
    "cdd_list = []\n",
    "\n",
    "for pth in name_list:\n",
    "    if pth[:mdl_len] == model_name:\n",
    "        cdd_list.append(pth)\n",
    "\n",
    "rd_cdd = [os.path.join(dir_name,x) for x in cdd_list]\n",
    "test_n = []\n",
    "train_n = []\n",
    "\n",
    "for pth in rd_cdd:\n",
    "    pth = os.path.join(pth,'summary/return.pkl')\n",
    "\n",
    "    f = open(pth,'rb')\n",
    "    data = pickle.load(f)\n",
    "    f.close()\n",
    "    test_n.append(len(data[1]))\n",
    "print(test_n)\n",
    "print(cdd_list)\n",
    "idx = np.argmax(test_n)\n",
    "#         idx = np.argmax(test_n)\n",
    "chosen_pth = rd_cdd[idx]\n",
    "print(chosen_pth)"
   ]
  },
  {
   "cell_type": "code",
   "execution_count": 3,
   "metadata": {},
   "outputs": [],
   "source": [
    "def detect_checkpoint(log_dir):\n",
    "\n",
    "    dir_name = os.path.dirname(log_dir)\n",
    "\n",
    "    if not os.path.exists(dir_name):\n",
    "        chek_point['state'] = False\n",
    "        return False\n",
    "\n",
    "    model_name = os.path.basename(log_dir)\n",
    "    model_name = model_name.split('QN')[0]+'QN'\n",
    "    mdl_len = len(model_name)\n",
    "\n",
    "    name_list = os.listdir(dir_name)\n",
    "    cdd_list = []\n",
    "    cdd_list = []\n",
    "\n",
    "    for pth in name_list:\n",
    "        if pth[:mdl_len] == model_name:\n",
    "            cdd_list.append(pth)\n",
    "    rd_cdd = [os.path.join(dir_name,x) for x in cdd_list]\n",
    "\n",
    "    if len(rd_cdd) == 0:\n",
    "        return False\n",
    "\n",
    "    else :\n",
    "\n",
    "        return True"
   ]
  },
  {
   "cell_type": "code",
   "execution_count": 11,
   "metadata": {},
   "outputs": [
    {
     "data": {
      "text/plain": [
       "True"
      ]
     },
     "execution_count": 11,
     "metadata": {},
     "output_type": "execute_result"
    }
   ],
   "source": [
    "dirr = 'logs/BreakoutNoFrameskip-v4/ncEXQRDQN-0-20200315-1603'\n",
    "detect_checkpoint(dirr)"
   ]
  },
  {
   "cell_type": "code",
   "execution_count": 16,
   "metadata": {},
   "outputs": [
    {
     "data": {
      "text/plain": [
       "'logs/BreakoutNoFrameskip-v4/EXQRDQN-0-20200818-1140'"
      ]
     },
     "execution_count": 16,
     "metadata": {},
     "output_type": "execute_result"
    }
   ],
   "source": [
    "name_ls = os.listdir(dir_name)\n",
    "os.path.join(dir_name,name_ls[0])"
   ]
  },
  {
   "cell_type": "code",
   "execution_count": 17,
   "metadata": {},
   "outputs": [],
   "source": []
  },
  {
   "cell_type": "code",
   "execution_count": 22,
   "metadata": {},
   "outputs": [],
   "source": [
    "import os \n",
    "import numpy as np\n",
    "import pickle\n",
    "\n",
    "def check(log_dir):\n",
    "    dir_name = os.path.dirname(log_dir)\n",
    "    model_name = os.path.basename(log_dir)\n",
    "    model_name = model_name.split('QN')[0]+'QN'\n",
    "    mdl_len = len(model_name)\n",
    "\n",
    "    name_list = os.listdir(dir_name)\n",
    "    cdd_list = []\n",
    "\n",
    "    for pth in name_list:\n",
    "        if pth[:mdl_len] == model_name:\n",
    "            cdd_list.append(pth)\n",
    "    rd_cdd = [os.path.join(dir_name,x) for x in cdd_list]\n",
    "    test_n = []\n",
    "    train_n = []\n",
    "\n",
    "\n",
    "    for pth in rd_cdd:\n",
    "        pth = os.path.join(pth,'summary/return.pkl')\n",
    "        f = open(pth,'rb')\n",
    "        data = pickle.load(f)\n",
    "        f.close()\n",
    "        test_n.append(len(data[1]))\n",
    "        train_n.append(len(data[0]))\n",
    "    idx = np.argmax(test_n)\n",
    "    chosen_pth = rd_cdd[idx]\n",
    "\n",
    "    steps = test_n[idx] * 250000\n",
    "    print(steps*4)"
   ]
  },
  {
   "cell_type": "code",
   "execution_count": 24,
   "metadata": {},
   "outputs": [
    {
     "data": {
      "text/plain": [
       "[0.4,\n",
       " 9.2,\n",
       " 14.25,\n",
       " 18.4,\n",
       " 23.4,\n",
       " 30.8,\n",
       " 155.25,\n",
       " 71.0,\n",
       " 15.0,\n",
       " 124.6,\n",
       " 131.0,\n",
       " 229.8,\n",
       " 78.4,\n",
       " 273.4,\n",
       " 248.6,\n",
       " 382.6,\n",
       " 391.1666666666667,\n",
       " 312.6,\n",
       " 392.0,\n",
       " 325.8,\n",
       " 250.0,\n",
       " 245.6,\n",
       " 155.4,\n",
       " 364.0,\n",
       " 287.55555555555554,\n",
       " 226.0,\n",
       " 396.625,\n",
       " 134.0,\n",
       " 270.5,\n",
       " 299.7142857142857,\n",
       " 61.8,\n",
       " 181.8,\n",
       " 124.16666666666667,\n",
       " 23.0,\n",
       " 232.8,\n",
       " 214.8,\n",
       " 138.0,\n",
       " 217.4,\n",
       " 220.2,\n",
       " 83.2,\n",
       " 93.8,\n",
       " 218.8,\n",
       " 16.8,\n",
       " 111.8,\n",
       " 125.8,\n",
       " 83.6,\n",
       " 107.375,\n",
       " 47.4,\n",
       " 106.0,\n",
       " 10.6,\n",
       " 140.72727272727272,\n",
       " 254.8,\n",
       " 305.0,\n",
       " 311.8,\n",
       " 94.6,\n",
       " 88.0,\n",
       " 185.4,\n",
       " 62.6,\n",
       " 404.1666666666667,\n",
       " 236.4,\n",
       " 181.8,\n",
       " 76.4,\n",
       " 162.8,\n",
       " 95.6,\n",
       " 382.0,\n",
       " 178.2,\n",
       " 86.8,\n",
       " 318.2,\n",
       " 161.4,\n",
       " 338.0,\n",
       " 76.8,\n",
       " 184.6,\n",
       " 26.8,\n",
       " 305.2,\n",
       " 78.2,\n",
       " 189.22222222222223,\n",
       " 172.6,\n",
       " 161.0,\n",
       " 221.33333333333334,\n",
       " 115.4,\n",
       " 22.6,\n",
       " 214.6,\n",
       " 262.4,\n",
       " 45.2,\n",
       " 252.8,\n",
       " 76.2,\n",
       " 26.0]"
      ]
     },
     "execution_count": 24,
     "metadata": {},
     "output_type": "execute_result"
    }
   ],
   "source": [
    "log_dir = 'logs/BreakoutNoFrameskip-v4/ncEXQRDQN-0-20200819-0953/summary/return.pkl'\n",
    "f = open(log_dir,'rb')\n",
    "data = pickle.load(f)\n",
    "f.close()\n",
    "data[1]"
   ]
  },
  {
   "cell_type": "code",
   "execution_count": null,
   "metadata": {},
   "outputs": [],
   "source": []
  }
 ],
 "metadata": {
  "kernelspec": {
   "display_name": "Python 3",
   "language": "python",
   "name": "python3"
  },
  "language_info": {
   "codemirror_mode": {
    "name": "ipython",
    "version": 3
   },
   "file_extension": ".py",
   "mimetype": "text/x-python",
   "name": "python",
   "nbconvert_exporter": "python",
   "pygments_lexer": "ipython3",
   "version": "3.6.13"
  }
 },
 "nbformat": 4,
 "nbformat_minor": 2
}
